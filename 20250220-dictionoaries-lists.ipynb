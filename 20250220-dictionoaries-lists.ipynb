{
 "cells": [
  {
   "cell_type": "code",
   "execution_count": 2,
   "id": "8585d9a0-825b-49f2-99cd-8b691b863a0e",
   "metadata": {},
   "outputs": [],
   "source": [
    "search_terms = [\"improper touching\", \n",
    "                \"self-medication\",\n",
    "               \"self-prescribing\",\n",
    "               \"opioid addiction\",\n",
    "               \"harassment\",\n",
    "               \"coercion\",\n",
    "               \"sexual harassment\",\n",
    "               \"sex\",\n",
    "               \"sexual favor\",\n",
    "               \"abuse of trust\",\n",
    "               \"opioid prescriptions in return for sex\"]"
   ]
  },
  {
   "cell_type": "code",
   "execution_count": 4,
   "id": "07ebeb1c-4d4b-442b-97df-fc9c4a5a51f6",
   "metadata": {},
   "outputs": [
    {
     "data": {
      "text/plain": [
       "list"
      ]
     },
     "execution_count": 4,
     "metadata": {},
     "output_type": "execute_result"
    }
   ],
   "source": [
    "type(search_terms)"
   ]
  },
  {
   "cell_type": "code",
   "execution_count": 6,
   "id": "dbe26639-fa98-46fa-b03e-5aa0fcf98a9d",
   "metadata": {},
   "outputs": [
    {
     "data": {
      "text/plain": [
       "11"
      ]
     },
     "execution_count": 6,
     "metadata": {},
     "output_type": "execute_result"
    }
   ],
   "source": [
    "len(search_terms)"
   ]
  },
  {
   "cell_type": "code",
   "execution_count": 8,
   "id": "a78ce7ed-cceb-420f-ae9d-033a9ce8cc47",
   "metadata": {},
   "outputs": [],
   "source": [
    "donations_1 = {\"year\": \"2017\",\n",
    "              \"donor\": \"David H Koch Charitable Foundation\",\n",
    "              \"grantee\": \"City Center For Music And Drama\",\n",
    "              \"amount\": \"$15_000_000\"}"
   ]
  },
  {
   "cell_type": "code",
   "execution_count": 22,
   "id": "918a9263-0303-4b9d-8225-8e417a5492d4",
   "metadata": {},
   "outputs": [
    {
     "name": "stdout",
     "output_type": "stream",
     "text": [
      "{'year': '2017', 'donor': 'David H Koch Charitable Foundation', 'grantee': 'City Center For Music And Drama', 'amount': '$15_000_000'}\n"
     ]
    }
   ],
   "source": [
    "print(donations_1)"
   ]
  },
  {
   "cell_type": "code",
   "execution_count": 32,
   "id": "c561687e-49c0-4b2b-a566-fda840ce220e",
   "metadata": {},
   "outputs": [
    {
     "data": {
      "text/plain": [
       "{'year': '2017',\n",
       " 'donor': 'David H Koch Charitable Foundation',\n",
       " 'grantee': 'City Center For Music And Drama',\n",
       " 'amount': '$15_000_000'}"
      ]
     },
     "execution_count": 32,
     "metadata": {},
     "output_type": "execute_result"
    }
   ],
   "source": [
    "donations_1"
   ]
  },
  {
   "cell_type": "code",
   "execution_count": 12,
   "id": "439b1617-c1d6-4265-a55c-9b67d677d13c",
   "metadata": {},
   "outputs": [],
   "source": [
    "donations_2 = {\"year\": \"2013\",\n",
    "              \"donor\": \"Bradley Impact Fund Inc\",\n",
    "              \"grantee\": \"Young Americas Foundation\",\n",
    "              \"amount\": \"$11_000\"}"
   ]
  },
  {
   "cell_type": "code",
   "execution_count": 24,
   "id": "ffb66e2f-735a-4d79-8557-4c2961cc56f0",
   "metadata": {},
   "outputs": [
    {
     "name": "stdout",
     "output_type": "stream",
     "text": [
      "{'year': '2013', 'donor': 'Bradley Impact Fund Inc', 'grantee': 'Young Americas Foundation', 'amount': '$11,000'}\n"
     ]
    }
   ],
   "source": [
    "print(donations_2)"
   ]
  },
  {
   "cell_type": "code",
   "execution_count": 34,
   "id": "713c174b-5767-47b5-aa9b-de0004ca58ac",
   "metadata": {},
   "outputs": [
    {
     "data": {
      "text/plain": [
       "{'year': '2013',\n",
       " 'donor': 'Bradley Impact Fund Inc',\n",
       " 'grantee': 'Young Americas Foundation',\n",
       " 'amount': '$11,000'}"
      ]
     },
     "execution_count": 34,
     "metadata": {},
     "output_type": "execute_result"
    }
   ],
   "source": [
    "donations_2"
   ]
  },
  {
   "cell_type": "code",
   "execution_count": 16,
   "id": "965d61ea-ee50-4ea4-9715-fbd96bc975d3",
   "metadata": {},
   "outputs": [],
   "source": [
    "donations_3 ={\"year\": \"2016 \",\n",
    "             \"donor\": \"Mercer Family Foundation\",\n",
    "             \"grantee\": \"The Becket Fund\",\n",
    "             \"amount\": \"$250_000\"}"
   ]
  },
  {
   "cell_type": "code",
   "execution_count": 26,
   "id": "cb368839-c1aa-447a-bcfe-0a37e322f658",
   "metadata": {},
   "outputs": [
    {
     "name": "stdout",
     "output_type": "stream",
     "text": [
      "{'year': '2016 ', 'donor': 'Mercer Family Foundation', 'grantee': 'The Becket Fund', 'amount': '$250_000'}\n"
     ]
    }
   ],
   "source": [
    "print(donations_3)"
   ]
  },
  {
   "cell_type": "code",
   "execution_count": 36,
   "id": "0d8eaf52-0a84-46ec-9cbb-99218c5780e5",
   "metadata": {},
   "outputs": [
    {
     "data": {
      "text/plain": [
       "{'year': '2016 ',\n",
       " 'donor': 'Mercer Family Foundation',\n",
       " 'grantee': 'The Becket Fund',\n",
       " 'amount': '$250_000'}"
      ]
     },
     "execution_count": 36,
     "metadata": {},
     "output_type": "execute_result"
    }
   ],
   "source": [
    "donations_3"
   ]
  },
  {
   "cell_type": "code",
   "execution_count": 18,
   "id": "6a965d75-0c6b-4a04-bc92-42f6ed023ff7",
   "metadata": {},
   "outputs": [],
   "source": [
    "donations_4 ={\"year\": \"2012 \",\n",
    "             \"donor\": \"Charles Koch Foundation\",\n",
    "             \"grantee\": \"The Phillips Foundation\",\n",
    "             \"amount\": \"$25_000\"}"
   ]
  },
  {
   "cell_type": "code",
   "execution_count": 28,
   "id": "86ca8e7a-3bc0-49e5-a4b4-08fcb1af0f1f",
   "metadata": {},
   "outputs": [
    {
     "name": "stdout",
     "output_type": "stream",
     "text": [
      "{'year': '2012 ', 'donor': 'Charles Koch Foundation', 'grantee': 'The Phillips Foundation', 'amount': '$25_000'}\n"
     ]
    }
   ],
   "source": [
    "print(donations_4)"
   ]
  },
  {
   "cell_type": "code",
   "execution_count": 38,
   "id": "c9453707-a6a1-41d5-b1b2-c1d197970240",
   "metadata": {},
   "outputs": [
    {
     "data": {
      "text/plain": [
       "{'year': '2012 ',\n",
       " 'donor': 'Charles Koch Foundation',\n",
       " 'grantee': 'The Phillips Foundation',\n",
       " 'amount': '$25_000'}"
      ]
     },
     "execution_count": 38,
     "metadata": {},
     "output_type": "execute_result"
    }
   ],
   "source": [
    "donations_4"
   ]
  },
  {
   "cell_type": "code",
   "execution_count": 20,
   "id": "c1367e64-a69b-475b-a50f-721fb976b002",
   "metadata": {},
   "outputs": [],
   "source": [
    "donations_5 ={\"year\": \"2017\",\n",
    "             \"donor\": \"Barbara And Barre Seid Foundation\",\n",
    "             \"grantee\": \"Boys Scouts of America\",\n",
    "             \"amount\": \"$2_634_600\"}"
   ]
  },
  {
   "cell_type": "code",
   "execution_count": 30,
   "id": "06615a43-bce3-4224-92a3-0aca1be7ca0c",
   "metadata": {},
   "outputs": [
    {
     "name": "stdout",
     "output_type": "stream",
     "text": [
      "{'year': '2017', 'donor': 'Barbara And Barre Seid Foundation', 'grantee': 'Boys Scouts of America', 'amount': '$2_634_600'}\n"
     ]
    }
   ],
   "source": [
    "print(donations_5)"
   ]
  },
  {
   "cell_type": "code",
   "execution_count": 40,
   "id": "c5f30e1d-b1e6-43a6-a1f0-24fbfd1b8948",
   "metadata": {},
   "outputs": [
    {
     "data": {
      "text/plain": [
       "{'year': '2017',\n",
       " 'donor': 'Barbara And Barre Seid Foundation',\n",
       " 'grantee': 'Boys Scouts of America',\n",
       " 'amount': '$2_634_600'}"
      ]
     },
     "execution_count": 40,
     "metadata": {},
     "output_type": "execute_result"
    }
   ],
   "source": [
    "donations_5"
   ]
  },
  {
   "cell_type": "code",
   "execution_count": 42,
   "id": "184586e6-f3de-43fd-9b69-57c2939bef33",
   "metadata": {},
   "outputs": [
    {
     "data": {
      "text/plain": [
       "[{'year': '2017',\n",
       "  'donor': 'David H Koch Charitable Foundation',\n",
       "  'grantee': 'City Center For Music And Drama',\n",
       "  'amount': '$15_000_000'},\n",
       " {'year': '2013',\n",
       "  'donor': 'Bradley Impact Fund Inc',\n",
       "  'grantee': 'Young Americas Foundation',\n",
       "  'amount': '$11,000'},\n",
       " {'year': '2016 ',\n",
       "  'donor': 'Mercer Family Foundation',\n",
       "  'grantee': 'The Becket Fund',\n",
       "  'amount': '$250_000'},\n",
       " {'year': '2012 ',\n",
       "  'donor': 'Charles Koch Foundation',\n",
       "  'grantee': 'The Phillips Foundation',\n",
       "  'amount': '$25_000'},\n",
       " {'year': '2017',\n",
       "  'donor': 'Barbara And Barre Seid Foundation',\n",
       "  'grantee': 'Boys Scouts of America',\n",
       "  'amount': '$2_634_600'}]"
      ]
     },
     "execution_count": 42,
     "metadata": {},
     "output_type": "execute_result"
    }
   ],
   "source": [
    "donations_list = [donations_1, donations_2, donations_3, donations_4, donations_5]\n",
    "donations_list"
   ]
  },
  {
   "cell_type": "code",
   "execution_count": 46,
   "id": "d99b1fc8-d914-4171-b772-d532282b9933",
   "metadata": {},
   "outputs": [],
   "source": [
    "import pandas as pd"
   ]
  },
  {
   "cell_type": "code",
   "execution_count": 50,
   "id": "446a2dc8-0d0d-47b0-a826-4d5d038dc801",
   "metadata": {},
   "outputs": [],
   "source": [
    "df = pd. DataFrame(donations_list)\n",
    "df.to_csv(\"donations.csv\", encoding = \"UTF-8\", index = False)"
   ]
  },
  {
   "cell_type": "code",
   "execution_count": 52,
   "id": "4a8aecf6-63eb-447d-a05a-1fe54f40f03e",
   "metadata": {},
   "outputs": [
    {
     "data": {
      "text/html": [
       "<div>\n",
       "<style scoped>\n",
       "    .dataframe tbody tr th:only-of-type {\n",
       "        vertical-align: middle;\n",
       "    }\n",
       "\n",
       "    .dataframe tbody tr th {\n",
       "        vertical-align: top;\n",
       "    }\n",
       "\n",
       "    .dataframe thead th {\n",
       "        text-align: right;\n",
       "    }\n",
       "</style>\n",
       "<table border=\"1\" class=\"dataframe\">\n",
       "  <thead>\n",
       "    <tr style=\"text-align: right;\">\n",
       "      <th></th>\n",
       "      <th>year</th>\n",
       "      <th>donor</th>\n",
       "      <th>grantee</th>\n",
       "      <th>amount</th>\n",
       "    </tr>\n",
       "  </thead>\n",
       "  <tbody>\n",
       "    <tr>\n",
       "      <th>0</th>\n",
       "      <td>2017</td>\n",
       "      <td>David H Koch Charitable Foundation</td>\n",
       "      <td>City Center For Music And Drama</td>\n",
       "      <td>$15_000_000</td>\n",
       "    </tr>\n",
       "    <tr>\n",
       "      <th>1</th>\n",
       "      <td>2013</td>\n",
       "      <td>Bradley Impact Fund Inc</td>\n",
       "      <td>Young Americas Foundation</td>\n",
       "      <td>$11,000</td>\n",
       "    </tr>\n",
       "    <tr>\n",
       "      <th>2</th>\n",
       "      <td>2016</td>\n",
       "      <td>Mercer Family Foundation</td>\n",
       "      <td>The Becket Fund</td>\n",
       "      <td>$250_000</td>\n",
       "    </tr>\n",
       "    <tr>\n",
       "      <th>3</th>\n",
       "      <td>2012</td>\n",
       "      <td>Charles Koch Foundation</td>\n",
       "      <td>The Phillips Foundation</td>\n",
       "      <td>$25_000</td>\n",
       "    </tr>\n",
       "    <tr>\n",
       "      <th>4</th>\n",
       "      <td>2017</td>\n",
       "      <td>Barbara And Barre Seid Foundation</td>\n",
       "      <td>Boys Scouts of America</td>\n",
       "      <td>$2_634_600</td>\n",
       "    </tr>\n",
       "  </tbody>\n",
       "</table>\n",
       "</div>"
      ],
      "text/plain": [
       "    year                               donor                          grantee  \\\n",
       "0   2017  David H Koch Charitable Foundation  City Center For Music And Drama   \n",
       "1   2013             Bradley Impact Fund Inc        Young Americas Foundation   \n",
       "2  2016             Mercer Family Foundation                  The Becket Fund   \n",
       "3  2012              Charles Koch Foundation          The Phillips Foundation   \n",
       "4   2017   Barbara And Barre Seid Foundation           Boys Scouts of America   \n",
       "\n",
       "        amount  \n",
       "0  $15_000_000  \n",
       "1      $11,000  \n",
       "2     $250_000  \n",
       "3      $25_000  \n",
       "4   $2_634_600  "
      ]
     },
     "execution_count": 52,
     "metadata": {},
     "output_type": "execute_result"
    }
   ],
   "source": [
    "df"
   ]
  },
  {
   "cell_type": "code",
   "execution_count": 54,
   "id": "c0b91603-5200-43d2-b975-3c3cbad2b07b",
   "metadata": {},
   "outputs": [],
   "source": [
    "disasters = [\n",
    "        \"Landslides\",\n",
    "        \"Earthquake\",\n",
    "        \"Wildfires\",\n",
    "        \"Tornadoes\",\n",
    "        \"Hurricane\",\n",
    "        \"Wind Storm\",\n",
    "        \"Winter Freeze\",\n",
    "        \"Ice Storm\",\n",
    "        \"Drought\",\n",
    "        \"Tsunami\",\n",
    "        \"Flash floods\",\n",
    "        \"Mudslides\",\n",
    "        \"Torrential rainfall\",\n",
    "        \"Riverine floods\",\n",
    "        \"Tidal Surge\"\n",
    "         ]"
   ]
  },
  {
   "cell_type": "code",
   "execution_count": 56,
   "id": "a9d1eb8d-4973-45b8-bd4e-0cefbf1bb6b5",
   "metadata": {},
   "outputs": [
    {
     "data": {
      "text/plain": [
       "['Landslides',\n",
       " 'Earthquake',\n",
       " 'Wildfires',\n",
       " 'Tornadoes',\n",
       " 'Hurricane',\n",
       " 'Wind Storm',\n",
       " 'Winter Freeze',\n",
       " 'Ice Storm',\n",
       " 'Drought',\n",
       " 'Tsunami',\n",
       " 'Flash floods',\n",
       " 'Mudslides',\n",
       " 'Torrential rainfall',\n",
       " 'Riverine floods',\n",
       " 'Tidal Surge']"
      ]
     },
     "execution_count": 56,
     "metadata": {},
     "output_type": "execute_result"
    }
   ],
   "source": [
    "disasters"
   ]
  },
  {
   "cell_type": "code",
   "execution_count": 62,
   "id": "05990296-22a4-4382-b396-561c393aa0e4",
   "metadata": {},
   "outputs": [
    {
     "data": {
      "text/plain": [
       "'Landslides'"
      ]
     },
     "execution_count": 62,
     "metadata": {},
     "output_type": "execute_result"
    }
   ],
   "source": [
    "disasters[0]"
   ]
  },
  {
   "cell_type": "code",
   "execution_count": 64,
   "id": "b8ba523f-e4fa-44ad-a3d4-325a9cc8b076",
   "metadata": {},
   "outputs": [
    {
     "data": {
      "text/plain": [
       "'Tidal Surge'"
      ]
     },
     "execution_count": 64,
     "metadata": {},
     "output_type": "execute_result"
    }
   ],
   "source": [
    "disasters[-1]"
   ]
  },
  {
   "cell_type": "code",
   "execution_count": 72,
   "id": "1bbd7980-f78d-475b-b297-42bc68022468",
   "metadata": {},
   "outputs": [
    {
     "data": {
      "text/plain": [
       "['Wildfires', 'Tornadoes', 'Hurricane', 'Wind Storm']"
      ]
     },
     "execution_count": 72,
     "metadata": {},
     "output_type": "execute_result"
    }
   ],
   "source": [
    "disaster_subset = disasters[2:6]\n",
    "disaster_subset"
   ]
  },
  {
   "cell_type": "code",
   "execution_count": 78,
   "id": "b50488bf-b680-46f6-949e-57143fafb73c",
   "metadata": {},
   "outputs": [
    {
     "data": {
      "text/plain": [
       "['Earthquake',\n",
       " 'Wildfires',\n",
       " 'Tornadoes',\n",
       " 'Hurricane',\n",
       " 'Wind Storm',\n",
       " 'Winter Freeze',\n",
       " 'Ice Storm']"
      ]
     },
     "execution_count": 78,
     "metadata": {},
     "output_type": "execute_result"
    }
   ],
   "source": [
    "disaster_subset2 = disasters[1:8]\n",
    "disaster_subset2"
   ]
  },
  {
   "cell_type": "code",
   "execution_count": null,
   "id": "b3417983-abbd-463c-a7fc-70e210cb4abd",
   "metadata": {},
   "outputs": [],
   "source": []
  }
 ],
 "metadata": {
  "kernelspec": {
   "display_name": "Python [conda env:base] *",
   "language": "python",
   "name": "conda-base-py"
  },
  "language_info": {
   "codemirror_mode": {
    "name": "ipython",
    "version": 3
   },
   "file_extension": ".py",
   "mimetype": "text/x-python",
   "name": "python",
   "nbconvert_exporter": "python",
   "pygments_lexer": "ipython3",
   "version": "3.12.7"
  }
 },
 "nbformat": 4,
 "nbformat_minor": 5
}
